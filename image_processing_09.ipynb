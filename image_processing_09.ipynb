{
 "cells": [
  {
   "cell_type": "code",
   "execution_count": 1,
   "id": "2c9e25d3-747f-4d82-ae8f-e446b3336f53",
   "metadata": {},
   "outputs": [],
   "source": [
    "%matplotlib inline\n",
    "\n",
    "import matplotlib \n",
    "import numpy as np\n",
    "import pandas as pd\n",
    "import os, sys, time, pickle, copy\n",
    "#import ipywidgets\n",
    "from mpl_toolkits.mplot3d import Axes3D\n",
    "import matplotlib.pyplot as plt\n",
    "from matplotlib import cm\n",
    "from matplotlib.ticker import LinearLocator, FormatStrFormatter\n",
    "from mpl_toolkits.mplot3d.art3d import Poly3DCollection    \n",
    "\n",
    "from scipy import optimize\n",
    "\n",
    "import cv2 \n",
    "\n",
    "matplotlib.rc('font', family='serif')\n",
    "matplotlib.rc('font', size=10)\n",
    "matplotlib.rc('legend', fontsize=16)\n",
    "matplotlib.rc('legend', numpoints=1)\n",
    "matplotlib.rc('legend', handlelength=1.5)\n",
    "matplotlib.rc('legend', frameon=True)\n",
    "matplotlib.rc('xtick.major', pad=7)\n",
    "matplotlib.rc('xtick', direction=\"in\")\n",
    "matplotlib.rc('ytick', direction=\"in\")\n",
    "matplotlib.rc('xtick', top = True)\n",
    "matplotlib.rc('ytick', right =True )\n",
    "matplotlib.rc('xtick.minor', pad=7)\n",
    "matplotlib.rc('text', usetex=True)\n",
    "\n",
    "matplotlib.rc('figure', figsize=(12, 9))\n",
    "\n",
    "\n"
   ]
  },
  {
   "cell_type": "code",
   "execution_count": null,
   "id": "bebd2f24-9af0-44c3-a74f-deaec98ad012",
   "metadata": {},
   "outputs": [],
   "source": []
  },
  {
   "cell_type": "markdown",
   "id": "e1612389-3059-4835-83bd-2351c696cb71",
   "metadata": {},
   "source": [
    "# 9. 이미지 인식 및 분류 (Image Recognition & Classification)\n",
    "\n",
    "## 9.1 개관\n",
    "\n",
    "### 단층 퍼셉트론\n",
    "\n",
    "아래 코드는 AND gate 를 학습하는 단층 퍼셉트론이다."
   ]
  },
  {
   "cell_type": "code",
   "execution_count": 45,
   "id": "7437937b-a249-411a-a853-7b55e28ed799",
   "metadata": {},
   "outputs": [],
   "source": [
    "# Single Layer Perceptron in lecture note. AND gate\n",
    "\n",
    "input_data = [[0,0,0],[0,1,0], [1,0,0], [1,1,1]]\n",
    "\n",
    "class perceptron1(object):\n",
    "    def __init__(self, w1=1, w2=1, w0=0, x0 = -1, eta=0.05, th=0.0):\n",
    "        self.params = np.array([w1, w2, w0], dtype=np.float64)\n",
    "        self.x0 = float(x0)\n",
    "        self.eta = eta\n",
    "        \n",
    "        self.input = None\n",
    "        \n",
    "        self.threashold = float(th)\n",
    "        print(\"Initial params (w1, w2, w0) = \", self.params)\n",
    "    \n",
    "    def study_by_input(self, input):\n",
    "        xs = np.array([input[0], input[1], self.x0], dtype=np.float64)\n",
    "        vnet = (xs*self.params).sum()\n",
    "        fnet = int(vnet >= self.threashold)\n",
    "        if fnet != input[2]:\n",
    "            w1 = self.params[0]+self.eta*input[0]*(input[2]-fnet)\n",
    "            w2 = self.params[1]+self.eta*input[1]*(input[2]-fnet)\n",
    "            w0 = self.params[2]+self.eta*self.x0*(input[2]-fnet)\n",
    "            oldparams = np.array(self.params, copy=True)\n",
    "            self.params = np.array([w1, w2, w0], np.float64)\n",
    "            print(\"params (w1, w2, w0) have changed from \", oldparams, \" to \", self.params, \" by input \", input )\n",
    "        else :\n",
    "            print(\"params \", self.params, \" are not changed by input\", input)\n",
    "        \n",
    "        \n",
    "    def study_hard(self):\n",
    "        for i in range(3):\n",
    "            for j in range(3):\n",
    "                self.study_by_input(input_data[j])"
   ]
  },
  {
   "cell_type": "code",
   "execution_count": 42,
   "id": "34260cac-2369-4c52-baa9-7fd083998cf6",
   "metadata": {},
   "outputs": [
    {
     "name": "stdout",
     "output_type": "stream",
     "text": [
      "Initial params (w1, w2, w0) =  [0.4 0.1 0.3]\n",
      "params  [0.4 0.1 0.3]  are not changed by input [0, 0, 0]\n",
      "params  [0.4 0.1 0.3]  are not changed by input [0, 1, 0]\n",
      "params (w1, w2, w0) have changed from  [0.4 0.1 0.3]  to  [0.35 0.1  0.35]  by input  [1, 0, 0]\n",
      "params  [0.35 0.1  0.35]  are not changed by input [0, 0, 0]\n",
      "params  [0.35 0.1  0.35]  are not changed by input [0, 1, 0]\n",
      "params (w1, w2, w0) have changed from  [0.35 0.1  0.35]  to  [0.3 0.1 0.4]  by input  [1, 0, 0]\n",
      "params  [0.3 0.1 0.4]  are not changed by input [0, 0, 0]\n",
      "params  [0.3 0.1 0.4]  are not changed by input [0, 1, 0]\n",
      "params  [0.3 0.1 0.4]  are not changed by input [1, 0, 0]\n"
     ]
    }
   ],
   "source": [
    "per1 = perceptron1(0.4, 0.1, 0.3, -1, )\n",
    "per1.study_hard()"
   ]
  },
  {
   "cell_type": "code",
   "execution_count": null,
   "id": "4d9f07d3-74c9-4338-890d-b37a3f7df7b8",
   "metadata": {},
   "outputs": [],
   "source": []
  },
  {
   "cell_type": "code",
   "execution_count": null,
   "id": "457b3bf5-46b9-4eb7-a829-374e0971f6b9",
   "metadata": {},
   "outputs": [],
   "source": []
  },
  {
   "cell_type": "code",
   "execution_count": null,
   "id": "002dbe26-a9e8-4d55-8269-56c80404dd8d",
   "metadata": {},
   "outputs": [],
   "source": []
  },
  {
   "cell_type": "code",
   "execution_count": null,
   "id": "d0347dc5-6bf5-4bdb-b79a-cd485edc1624",
   "metadata": {},
   "outputs": [],
   "source": []
  },
  {
   "cell_type": "code",
   "execution_count": null,
   "id": "1a80cb2e-4211-49c8-8267-d0272970ad6f",
   "metadata": {},
   "outputs": [],
   "source": []
  }
 ],
 "metadata": {
  "kernelspec": {
   "display_name": "Python 3 (ipykernel)",
   "language": "python",
   "name": "python3"
  },
  "language_info": {
   "codemirror_mode": {
    "name": "ipython",
    "version": 3
   },
   "file_extension": ".py",
   "mimetype": "text/x-python",
   "name": "python",
   "nbconvert_exporter": "python",
   "pygments_lexer": "ipython3",
   "version": "3.8.11"
  }
 },
 "nbformat": 4,
 "nbformat_minor": 5
}
