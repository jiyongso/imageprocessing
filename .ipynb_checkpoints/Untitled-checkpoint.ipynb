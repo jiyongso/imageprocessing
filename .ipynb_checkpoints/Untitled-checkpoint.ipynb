{
 "cells": [
  {
   "cell_type": "code",
   "execution_count": 1,
   "id": "13ab10ee-6d0f-4759-baa8-ef1d4b28c653",
   "metadata": {},
   "outputs": [],
   "source": [
    "%matplotlib inline\n",
    "\n",
    "import matplotlib \n",
    "import numpy as np\n",
    "import pandas as pd\n",
    "import os, sys, time, pickle, copy\n",
    "#import ipywidgets\n",
    "from mpl_toolkits.mplot3d import Axes3D\n",
    "import matplotlib.pyplot as plt\n",
    "from matplotlib import cm\n",
    "from matplotlib.ticker import LinearLocator, FormatStrFormatter\n",
    "from mpl_toolkits.mplot3d.art3d import Poly3DCollection    \n",
    "\n",
    "from scipy import optimize\n",
    "\n",
    "import cv2 \n",
    "\n",
    "matplotlib.rc('font', family='serif')\n",
    "matplotlib.rc('font', size=10)\n",
    "matplotlib.rc('legend', fontsize=16)\n",
    "matplotlib.rc('legend', numpoints=1)\n",
    "matplotlib.rc('legend', handlelength=1.5)\n",
    "matplotlib.rc('legend', frameon=True)\n",
    "matplotlib.rc('xtick.major', pad=7)\n",
    "matplotlib.rc('xtick', direction=\"in\")\n",
    "matplotlib.rc('ytick', direction=\"in\")\n",
    "matplotlib.rc('xtick', top = True)\n",
    "matplotlib.rc('ytick', right =True )\n",
    "matplotlib.rc('xtick.minor', pad=7)\n",
    "matplotlib.rc('text', usetex=True)\n",
    "\n",
    "matplotlib.rc('figure', figsize=(12, 9))\n",
    "\n",
    "\n"
   ]
  },
  {
   "cell_type": "code",
   "execution_count": 12,
   "id": "76a88b36-c322-4198-b167-e554bc6b9b87",
   "metadata": {},
   "outputs": [],
   "source": [
    "def myfilter(img, ker):\n",
    "    size = ker.shape\n",
    "    edge = ((size[0]-1)>>1, (size[1]-1)>>1)\n",
    "    pkind = np.where(ker>0)\n",
    "    \n",
    "    imt = np.zeros((img.shape[0]+2*edge[0], img.shape[1]+2*edge[1], pkind[0].shape[0]))\n",
    "    imt[edge[0]:-edge[0],edge[1]:-edge[1],0]=img[:,:]\n",
    "\n",
    "    for ind, pp in enumerate(zip(pkind[0], pkind[1])):\n",
    "        p0, p1 = pp\n",
    "        imt[(2*edge[0]-p0):(2*edge[0]-p0+img.shape[0]),(2*edge[1]-p1):(2*edge[1]-p1+img.shape[1]),ind] \\\n",
    "                    = img[:,:]*ker[p0, p1]\n",
    "    \n",
    "    \n",
    "    return imt[edge[0]:-edge[0],edge[1]:-edge[1],:]"
   ]
  },
  {
   "cell_type": "code",
   "execution_count": 10,
   "id": "1edabc11-188d-4621-bc76-3e2b1b806a85",
   "metadata": {},
   "outputs": [
    {
     "data": {
      "image/png": "[encoded data removed]",
      "text/plain": [
       "<Figure size 1050x1800 with 3 Axes>"
      ]
     },
     "metadata": {},
     "output_type": "display_data"
    }
   ],
   "source": [
    "img1=cv2.cvtColor(cv2.imread(\"./img_erossion_02.png\"), cv2.COLOR_BGR2GRAY)\n",
    "\n",
    "fig1 = plt.figure(figsize=(7,12), dpi= 150, facecolor='w', edgecolor='k')\n",
    "ax1, ax2, ax3 = fig1.add_subplot(421), fig1.add_subplot(422), fig1.add_subplot(423)\n",
    "\n",
    "ker = np.array([[0,1,0],[2,0,3],[4,0,5]])\n",
    "ker1 = np.array([[-1,-1,2],[-1,2,-1], [2,-1,-1]])\n",
    "ker2 = np.array([[2,-1,-1],[-1,2,-1], [-1,-1,2]])\n",
    "\n",
    "\n"
   ]
  },
  {
   "cell_type": "code",
   "execution_count": 17,
   "id": "3c9f123c-059b-4f08-8aad-b5a6290b438c",
   "metadata": {},
   "outputs": [
    {
     "data": {
      "text/plain": [
       "array([[0, 1, 0],\n",
       "       [2, 0, 3],\n",
       "       [4, 0, 5]])"
      ]
     },
     "execution_count": 17,
     "metadata": {},
     "output_type": "execute_result"
    }
   ],
   "source": [
    "ker = np.array([[0,1,0],[2,0,3],[4,0,5]])\n",
    "img = np.arange(9).reshape(3,3)\n",
    "ker"
   ]
  },
  {
   "cell_type": "code",
   "execution_count": 13,
   "id": "7ee3245a-4afd-4d6e-89f3-d10539b12cdf",
   "metadata": {},
   "outputs": [],
   "source": [
    "img1=myfilter(img, ker)"
   ]
  },
  {
   "cell_type": "code",
   "execution_count": 14,
   "id": "7f006595-9065-493c-bb42-e8d178671f01",
   "metadata": {},
   "outputs": [
    {
     "data": {
      "text/plain": [
       "array([[0., 1., 2.],\n",
       "       [0., 1., 2.],\n",
       "       [3., 4., 5.]])"
      ]
     },
     "execution_count": 14,
     "metadata": {},
     "output_type": "execute_result"
    }
   ],
   "source": [
    "img1[:,:,0]"
   ]
  },
  {
   "cell_type": "code",
   "execution_count": 23,
   "id": "b10148ef-15d8-432c-a94e-73765dfd364b",
   "metadata": {},
   "outputs": [
    {
     "data": {
      "text/plain": [
       "array([[0., 1., 2.],\n",
       "       [0., 1., 2.],\n",
       "       [3., 4., 5.]])"
      ]
     },
     "execution_count": 23,
     "metadata": {},
     "output_type": "execute_result"
    }
   ],
   "source": [
    "img1[:,:,0]"
   ]
  },
  {
   "cell_type": "code",
   "execution_count": 25,
   "id": "e8cc6c83-92b0-4d2d-b08b-7bccaa51c945",
   "metadata": {},
   "outputs": [
    {
     "data": {
      "text/plain": [
       "array([[0, 1, 2],\n",
       "       [3, 4, 5],\n",
       "       [6, 7, 8]])"
      ]
     },
     "execution_count": 25,
     "metadata": {},
     "output_type": "execute_result"
    }
   ],
   "source": [
    "img"
   ]
  },
  {
   "cell_type": "code",
   "execution_count": 26,
   "id": "cf63bba2-cf70-4292-8bf9-0d3c6cbb4a5c",
   "metadata": {},
   "outputs": [],
   "source": [
    "pkind = np.nonzero(ker)"
   ]
  },
  {
   "cell_type": "code",
   "execution_count": 27,
   "id": "8342bfbd-e571-48cd-8676-af99b52b8dca",
   "metadata": {},
   "outputs": [
    {
     "data": {
      "text/plain": [
       "(array([0, 1, 1, 2, 2]), array([1, 0, 2, 0, 2]))"
      ]
     },
     "execution_count": 27,
     "metadata": {},
     "output_type": "execute_result"
    }
   ],
   "source": [
    "pkind"
   ]
  },
  {
   "cell_type": "code",
   "execution_count": null,
   "id": "4d6473f4-4612-451e-af66-c084ad3a1423",
   "metadata": {},
   "outputs": [],
   "source": []
  }
 ],
 "metadata": {
  "kernelspec": {
   "display_name": "Python 3 (ipykernel)",
   "language": "python",
   "name": "python3"
  },
  "language_info": {
   "codemirror_mode": {
    "name": "ipython",
    "version": 3
   },
   "file_extension": ".py",
   "mimetype": "text/x-python",
   "name": "python",
   "nbconvert_exporter": "python",
   "pygments_lexer": "ipython3",
   "version": "3.8.11"
  }
 },
 "nbformat": 4,
 "nbformat_minor": 5
}
