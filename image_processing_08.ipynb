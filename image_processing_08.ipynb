{
 "cells": [
  {
   "cell_type": "code",
   "execution_count": 1,
   "id": "12d4e2fa-5952-4eb2-9ad1-c232d7471262",
   "metadata": {},
   "outputs": [],
   "source": [
    "%matplotlib inline\n",
    "\n",
    "import matplotlib \n",
    "import numpy as np\n",
    "import pandas as pd\n",
    "import os, sys, time, pickle, copy\n",
    "#import ipywidgets\n",
    "from mpl_toolkits.mplot3d import Axes3D\n",
    "import matplotlib.pyplot as plt\n",
    "from matplotlib import cm\n",
    "from matplotlib.ticker import LinearLocator, FormatStrFormatter\n",
    "from mpl_toolkits.mplot3d.art3d import Poly3DCollection    \n",
    "\n",
    "from scipy import optimize\n",
    "\n",
    "import cv2 \n",
    "\n",
    "matplotlib.rc('font', family='serif')\n",
    "matplotlib.rc('font', size=10)\n",
    "matplotlib.rc('legend', fontsize=16)\n",
    "matplotlib.rc('legend', numpoints=1)\n",
    "matplotlib.rc('legend', handlelength=1.5)\n",
    "matplotlib.rc('legend', frameon=True)\n",
    "matplotlib.rc('xtick.major', pad=7)\n",
    "matplotlib.rc('xtick', direction=\"in\")\n",
    "matplotlib.rc('ytick', direction=\"in\")\n",
    "matplotlib.rc('xtick', top = True)\n",
    "matplotlib.rc('ytick', right =True )\n",
    "matplotlib.rc('xtick.minor', pad=7)\n",
    "matplotlib.rc('text', usetex=True)\n",
    "\n",
    "matplotlib.rc('figure', figsize=(12, 9))\n",
    "\n",
    "\n",
    "\n"
   ]
  },
  {
   "cell_type": "code",
   "execution_count": null,
   "id": "8e5130db-bcc7-4e95-9a24-cb1175e220eb",
   "metadata": {},
   "outputs": [],
   "source": []
  },
  {
   "cell_type": "markdown",
   "id": "95270c90-1aa6-4233-919c-1f35f5f3133e",
   "metadata": {},
   "source": [
    "# Chapter 8. 칼라 이미지 처리 (Color Image Processing)\n",
    "\n",
    "## 8.1. 개관\n"
   ]
  },
  {
   "cell_type": "markdown",
   "id": "5e56470b-8209-469a-b61c-2933a46b8275",
   "metadata": {},
   "source": [
    "## 8.2. 색의 구분\n",
    "\n",
    "#### 색상 (hue, H), 채도 (saturation, S), 그리고 명 도 (brightness or value, V)  \n",
    "\n",
    "- 색상은 여러 파장의 빛이 섞여 있을 때 관찰자 입장 에서 가장 눈에 띄는 대표적인 파장으로 나타나는 색을 의미하며, \n",
    "- 채도는 색상에 얼마나 높은 비율로 하얀색의 빛 (백색광)이 섞여 있는지를 의미하고 (즉, 하얀색은 채도가 0, 삼 원색이나 2차색 (CMY)은 채도가 1),\n",
    "- 명도는 색상 정보와 상관 없이 명암 이미지에서 말 하는 픽셀 값 (강도)를 의미합니다. \n",
    "\n",
    "\n",
    "#### CIE가 20세기 초반에 했던 실험\n",
    "- CIE는 인간의 원추 세포가 적어도 단파장, 중파장, 장파장 의 세 가지 빛을 구분할 수 있다는 것을 알고 있었으므로, 원칙적으로 세 개의 변수 만 으로 인간이 인지할 수 있는 색감을 전부 표현할 수 있을 것이라는 가설을 세웠습니다. \n",
    "- 이를 기반으로, CIE는 <b>XYZ 색 공간</b>이라는 개념을 도입하였는데, X, Y, Z는 각 파장 (즉, 각 색깔)에 대응하는 <b>삼색 자극값 (tristimulus values)</b>을 의미합니다. 예를 들어, X 빨강, Y는 초록, Z는 파랑과 비슷한 색깔에 대응합니다. 인간의 색상 인지 특성 중 하나는 다양한 파장을 가진 두 가지 다른 색깔을 섞으면, 다른 색과 비슷하게 보일 수 있다는 것입니다. 이러한 현상을 <b>조건등색 (metamerism)</b> 이라고도 하는데, 두 개의 색깔이 가진 삼색 자극 값의 합은 두 개의 색깔이 갖는 파장과 상관 없이, 똑같아 보이는 다른 색의 삼색 자극 값과 동일함을 의미합니다. \n",
    "\n",
    "#### 삼색자극갑과 RGB\n",
    "삼색 자극값 좌표 $\\begin{bmatrix} X &Y &Z \\end{bmatrix}$ 를 인간이 인지하는 좌표인 $\\begin{bmatrix} R & G &B \\end{bmatrix}$ 로 바꾸는 것 (혹은 역변환은)은 다음의 행렬 연산 과정을 거치면 됩니다.\n",
    "\n",
    "$$\n",
    "\\begin{aligned}\n",
    "\\begin{bmatrix} R \\\\ G \\\\ B \\end{bmatrix} & = \\begin{bmatrix} 3.063  & -1.393  & -0.476 \\\\ -0.969 & 1.876 &  0.042 \\\\ 0.068  & -0.229 & 1.069 \\end{bmatrix} \\begin{bmatrix} X \\\\ Y \\\\ Z \\end{bmatrix} \\\\\n",
    "{}\\\\\n",
    "\\begin {bmatrix} X\\\\ Y \\\\ Z \\end{bmatrix} &=\\begin{bmatrix} 0.431  & 1.342  & 0.178 \\\\ 0.222 & 0.797 &  0.071 \\\\ 0.020  & 0.130 & 0.939 \\end{bmatrix} \\begin{bmatrix} R \\\\ G \\\\ B \\end{bmatrix}\n",
    "\\end{aligned}\n",
    "$$\n",
    "\n",
    "참고로 $C,\\,M,\\,Y$ 는 다음과 같이 계산된다. (C=청록, M=분홍, Y= 노랑 으로 색소의 삼원색이다.)\n",
    "\n",
    "$$\n",
    "\\begin{bmatrix} C\\\\ M \\\\ Y \\end{bmatrix} = \\begin{bmatrix} 1\\\\ 1 \\\\ 1 \\end{bmatrix} - \\begin{bmatrix} R\\\\ G \\\\ B \\end{bmatrix}\n",
    "$$"
   ]
  },
  {
   "cell_type": "markdown",
   "id": "a0e23284-72f0-4d14-939c-2759e6f510ce",
   "metadata": {},
   "source": [
    "#### RGB to HSV\n",
    "\n",
    "$$\n",
    "\\begin{aligned}\n",
    "V &= \\max(R,G,B),\\,\\\\\n",
    "\\delta &= V -\\min (R,G,B) ,\\,\\\\\n",
    "S &= \\dfrac{\\delta}{V} \\\\\n",
    "\\end{aligned}\n",
    "$$\n",
    "\n",
    "$$\n",
    "\\begin{aligned}\n",
    "H &= \\left \\{ \\begin{array}{ll}\n",
    "\\dfrac{G-B}{6\\delta} \\qquad&\\text{when } V=R \\\\ \n",
    "\\dfrac{1}{6} \\left( 2 + \\dfrac{B-R}{\\delta} \\right) & \\text{when } V=G \\\\ \n",
    "\\dfrac{1}{6} \\left(4 + \\dfrac{R-G}{\\delta} \\right) & \\text{when } V=B \n",
    "\\end{array} \n",
    "\\right.\n",
    "\\end{aligned}\n",
    "$$\n",
    "\n",
    "만약 $H$ 가 음수이면 $1+H$ 값이 대신한다. 또한 다음과 같이 정의한다.\n",
    "$$\n",
    "\\begin{bmatrix} R & G & B \\end{bmatrix} = \\begin{bmatrix} 0 & 0 & 0 \\end{bmatrix} \\implies \\begin{bmatrix} H & S & V \\end{bmatrix} = \\begin{bmatrix} 0 & 0 & 0 \\end{bmatrix} \n",
    "$$\n",
    "\n",
    "\n",
    "##### HSV to RGB\n",
    "\n",
    "$$\n",
    "\\begin{aligned}\n",
    "H' & =  [6H ], \\\\\n",
    "F &= 6H - H', \\\\\n",
    "P &= V (1 -S) , \\\\\n",
    "Q &= V (1- SF) ,\\\\\n",
    "T &= V(1-S(1-F)).\n",
    "\\end{aligned}\n",
    "$$\n",
    "\n",
    "여기서 $[6H]$ 는 소위 가우스 기호로 $6H$ 에 가장 가까운 정수값을 의미한다.\n",
    "\n"
   ]
  },
  {
   "cell_type": "code",
   "execution_count": 20,
   "id": "1b36368d-d800-4331-b810-814fb2822021",
   "metadata": {},
   "outputs": [],
   "source": [
    "def rgb2hsv(r, g, b, dd = 0.01):\n",
    "    if r<dd and g<dd and b < dd :\n",
    "        return (0., 0., 0.)\n",
    "    v = max(r, g, b)\n",
    "    delta = v-min(r, g, b)\n",
    "    s = delta/v\n",
    "    if v == r :\n",
    "        h = (g-b)/6./delta\n",
    "    elif v == g :\n",
    "        h = 1./6*(2+(b-r)/delta)\n",
    "    elif v == b :\n",
    "        h=1./6 *(4+ (r-g)/delta)\n",
    "    if h<0 :\n",
    "        h = 1-h\n",
    "    return (h, s, v)\n",
    "\n",
    "def hsv2rgb(h, s, v, dd=0.01):\n",
    "    h2 = int(round(6*h))\n",
    "    f = 6*h - h2\n",
    "    p = v*(1-s)\n",
    "    q = v*(1.-s*f)\n",
    "    t = v*(1-s*(1-f))\n",
    "    \n",
    "    if h2 == 0:\n",
    "        return(v, t, p)\n",
    "    elif h2 == 1:\n",
    "        return (q, v, p)\n",
    "    elif h2 == 2:\n",
    "        return (p, v, t)\n",
    "    elif h2 == 3:\n",
    "        return (p, q, v)\n",
    "    elif h2 == 4:\n",
    "        return (t, p, v)\n",
    "    else :\n",
    "        return (v, p, q)\n"
   ]
  },
  {
   "cell_type": "code",
   "execution_count": 21,
   "id": "5197ed4f-6af0-4a7a-a3b5-5596c3984ba4",
   "metadata": {},
   "outputs": [
    {
     "name": "stdout",
     "output_type": "stream",
     "text": [
      "(0.5833333333333333, 0.6666666666666666, 0.6)\n",
      "(0.19998000000000002, 0.4000700039999998, 0.6)\n"
     ]
    }
   ],
   "source": [
    "print(rgb2hsv(0.2,0.4,0.6))\n",
    "print(hsv2rgb(0.5833,0.6667,0.6000))"
   ]
  },
  {
   "cell_type": "code",
   "execution_count": null,
   "id": "b5b1a401-ecf7-498d-9ab4-f57245656828",
   "metadata": {},
   "outputs": [],
   "source": []
  },
  {
   "cell_type": "markdown",
   "id": "bd3cd466-31f1-42ac-b720-0deb2e84be95",
   "metadata": {},
   "source": [
    "# 가상 칼라 이미징 (Pseudocoloring)"
   ]
  },
  {
   "cell_type": "code",
   "execution_count": null,
   "id": "01455112-0ce5-4efc-a3b5-108d082a45af",
   "metadata": {},
   "outputs": [],
   "source": []
  },
  {
   "cell_type": "code",
   "execution_count": null,
   "id": "adecd5da-2090-4251-9418-4469ccc988ce",
   "metadata": {},
   "outputs": [],
   "source": []
  },
  {
   "cell_type": "code",
   "execution_count": null,
   "id": "de385ee9-2d1b-49db-885c-1629edb4f1ea",
   "metadata": {},
   "outputs": [],
   "source": []
  },
  {
   "cell_type": "code",
   "execution_count": null,
   "id": "4ea7c1b6-c7fe-46a6-926a-cd43bc439cfe",
   "metadata": {},
   "outputs": [],
   "source": []
  },
  {
   "cell_type": "code",
   "execution_count": null,
   "id": "4292bf63-d346-4a25-99af-10dce6ab730c",
   "metadata": {},
   "outputs": [],
   "source": []
  }
 ],
 "metadata": {
  "kernelspec": {
   "display_name": "Python 3 (ipykernel)",
   "language": "python",
   "name": "python3"
  },
  "language_info": {
   "codemirror_mode": {
    "name": "ipython",
    "version": 3
   },
   "file_extension": ".py",
   "mimetype": "text/x-python",
   "name": "python",
   "nbconvert_exporter": "python",
   "pygments_lexer": "ipython3",
   "version": "3.8.11"
  }
 },
 "nbformat": 4,
 "nbformat_minor": 5
}
